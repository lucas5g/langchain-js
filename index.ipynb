{
 "cells": [
  {
   "cell_type": "code",
   "execution_count": 1,
   "id": "dc20d5e1",
   "metadata": {},
   "outputs": [],
   "source": [
    "import sqlite3\n",
    "\n",
    "import requests\n",
    "from langchain_community.utilities.sql_database import SQLDatabase\n",
    "from sqlalchemy import create_engine\n",
    "from sqlalchemy.pool import StaticPool\n",
    "\n",
    "\n",
    "def get_engine_for_chinook_db():\n",
    "    \"\"\"Pull sql file, populate in-memory database, and create engine.\"\"\"\n",
    "    url = \"https://raw.githubusercontent.com/lerocha/chinook-database/master/ChinookDatabase/DataSources/Chinook_Sqlite.sql\"\n",
    "    response = requests.get(url)\n",
    "    sql_script = response.text\n",
    "\n",
    "    connection = sqlite3.connect(\":memory:\", check_same_thread=False)\n",
    "    connection.executescript(sql_script)\n",
    "    return create_engine(\n",
    "        \"sqlite://\",\n",
    "        creator=lambda: connection,\n",
    "        poolclass=StaticPool,\n",
    "        connect_args={\"check_same_thread\": False},\n",
    "    )\n",
    "\n",
    "\n",
    "engine = get_engine_for_chinook_db()\n",
    "\n",
    "db = SQLDatabase(engine)"
   ]
  },
  {
   "cell_type": "code",
   "execution_count": 2,
   "id": "d79a19d0",
   "metadata": {},
   "outputs": [],
   "source": [
    "import getpass\n",
    "import os\n",
    "\n",
    "if not os.environ.get(\"GROQ_API_KEY\"):\n",
    "  os.environ[\"GROQ_API_KEY\"] = getpass.getpass(\"Enter API key for Groq: \")\n",
    "\n",
    "from langchain.chat_models import init_chat_model\n",
    "\n",
    "llm = init_chat_model(\"llama3-8b-8192\", model_provider=\"groq\")"
   ]
  },
  {
   "cell_type": "code",
   "execution_count": 3,
   "id": "fa24b332",
   "metadata": {},
   "outputs": [],
   "source": [
    "from langchain_community.agent_toolkits.sql.toolkit import SQLDatabaseToolkit\n",
    "\n",
    "toolkit = SQLDatabaseToolkit(db=db, llm=llm)"
   ]
  },
  {
   "cell_type": "code",
   "execution_count": 4,
   "id": "78848d72",
   "metadata": {},
   "outputs": [
    {
     "data": {
      "text/plain": [
       "[QuerySQLDatabaseTool(description=\"Input to this tool is a detailed and correct SQL query, output is a result from the database. If the query is not correct, an error message will be returned. If an error is returned, rewrite the query, check the query, and try again. If you encounter an issue with Unknown column 'xxxx' in 'field list', use sql_db_schema to query the correct table fields.\", db=<langchain_community.utilities.sql_database.SQLDatabase object at 0x77f455b21d20>),\n",
       " InfoSQLDatabaseTool(description='Input to this tool is a comma-separated list of tables, output is the schema and sample rows for those tables. Be sure that the tables actually exist by calling sql_db_list_tables first! Example Input: table1, table2, table3', db=<langchain_community.utilities.sql_database.SQLDatabase object at 0x77f455b21d20>),\n",
       " ListSQLDatabaseTool(db=<langchain_community.utilities.sql_database.SQLDatabase object at 0x77f455b21d20>),\n",
       " QuerySQLCheckerTool(description='Use this tool to double check if your query is correct before executing it. Always use this tool before executing a query with sql_db_query!', db=<langchain_community.utilities.sql_database.SQLDatabase object at 0x77f455b21d20>, llm=ChatGroq(client=<groq.resources.chat.completions.Completions object at 0x77f44d3d1b40>, async_client=<groq.resources.chat.completions.AsyncCompletions object at 0x77f44d3d2fb0>, model_name='llama3-8b-8192', model_kwargs={}, groq_api_key=SecretStr('**********')), llm_chain=LLMChain(verbose=False, prompt=PromptTemplate(input_variables=['dialect', 'query'], input_types={}, partial_variables={}, template='\\n{query}\\nDouble check the {dialect} query above for common mistakes, including:\\n- Using NOT IN with NULL values\\n- Using UNION when UNION ALL should have been used\\n- Using BETWEEN for exclusive ranges\\n- Data type mismatch in predicates\\n- Properly quoting identifiers\\n- Using the correct number of arguments for functions\\n- Casting to the correct data type\\n- Using the proper columns for joins\\n\\nIf there are any of the above mistakes, rewrite the query. If there are no mistakes, just reproduce the original query.\\n\\nOutput the final SQL query only.\\n\\nSQL Query: '), llm=ChatGroq(client=<groq.resources.chat.completions.Completions object at 0x77f44d3d1b40>, async_client=<groq.resources.chat.completions.AsyncCompletions object at 0x77f44d3d2fb0>, model_name='llama3-8b-8192', model_kwargs={}, groq_api_key=SecretStr('**********')), output_parser=StrOutputParser(), llm_kwargs={}))]"
      ]
     },
     "execution_count": 4,
     "metadata": {},
     "output_type": "execute_result"
    }
   ],
   "source": [
    "toolkit.get_tools()"
   ]
  },
  {
   "cell_type": "code",
   "execution_count": 5,
   "id": "f86e5fc5",
   "metadata": {},
   "outputs": [],
   "source": [
    "from langchain_community.tools.sql_database.tool import (\n",
    "    InfoSQLDatabaseTool,\n",
    "    ListSQLDatabaseTool,\n",
    "    QuerySQLCheckerTool,\n",
    "    QuerySQLDatabaseTool,\n",
    ")"
   ]
  },
  {
   "cell_type": "code",
   "execution_count": 6,
   "id": "2703c3e7",
   "metadata": {},
   "outputs": [
    {
     "name": "stderr",
     "output_type": "stream",
     "text": [
      "/home/lucas/projects/langchain-js/.venv/lib/python3.10/site-packages/langsmith/client.py:280: LangSmithMissingAPIKeyWarning: API key must be provided when using hosted LangSmith API\n",
      "  warnings.warn(\n"
     ]
    },
    {
     "name": "stdout",
     "output_type": "stream",
     "text": [
      "['dialect', 'top_k']\n"
     ]
    }
   ],
   "source": [
    "from langchain import hub\n",
    "\n",
    "prompt_template = hub.pull(\"langchain-ai/sql-agent-system-prompt\")\n",
    "\n",
    "assert len(prompt_template.messages) == 1\n",
    "print(prompt_template.input_variables)"
   ]
  },
  {
   "cell_type": "code",
   "execution_count": 7,
   "id": "b3661f4f",
   "metadata": {},
   "outputs": [],
   "source": [
    "system_message = prompt_template.format(dialect=\"SQLite\", top_k=5)"
   ]
  },
  {
   "cell_type": "code",
   "execution_count": 8,
   "id": "a9a85e3f",
   "metadata": {},
   "outputs": [],
   "source": [
    "from langgraph.prebuilt import create_react_agent\n",
    "\n",
    "agent_executor = create_react_agent(llm, toolkit.get_tools(), prompt=system_message)"
   ]
  },
  {
   "cell_type": "code",
   "execution_count": 15,
   "id": "458b27a1",
   "metadata": {},
   "outputs": [
    {
     "data": {
      "text/plain": [
       "[HumanMessage(content=\"Who are Brazil's customers?\", additional_kwargs={}, response_metadata={}, id='6c5b2b85-b508-4838-abe7-abcf64ad6e12'),\n",
       " AIMessage(content='', additional_kwargs={'tool_calls': [{'id': 'call_81by', 'function': {'arguments': '{\"tool_input\":\"\"}', 'name': 'sql_db_list_tables'}, 'type': 'function'}, {'id': 'call_6s78', 'function': {'arguments': '{\"table_names\":\"\"}', 'name': 'sql_db_schema'}, 'type': 'function'}, {'id': 'call_sabz', 'function': {'arguments': '{\"query\":\"\"}', 'name': 'sql_db_query_checker'}, 'type': 'function'}, {'id': 'call_sh86', 'function': {'arguments': '{\"query\":\"\"}', 'name': 'sql_db_query'}, 'type': 'function'}]}, response_metadata={'token_usage': {'completion_tokens': 235, 'prompt_tokens': 1633, 'total_tokens': 1868, 'completion_time': 0.195833333, 'prompt_time': 0.223540467, 'queue_time': 0.05357554100000003, 'total_time': 0.4193738}, 'model_name': 'llama3-8b-8192', 'system_fingerprint': 'fp_a97cfe35ae', 'finish_reason': 'tool_calls', 'logprobs': None}, id='run-d34e2498-21ae-458d-bc21-9d44f8ede266-0', tool_calls=[{'name': 'sql_db_list_tables', 'args': {'tool_input': ''}, 'id': 'call_81by', 'type': 'tool_call'}, {'name': 'sql_db_schema', 'args': {'table_names': ''}, 'id': 'call_6s78', 'type': 'tool_call'}, {'name': 'sql_db_query_checker', 'args': {'query': ''}, 'id': 'call_sabz', 'type': 'tool_call'}, {'name': 'sql_db_query', 'args': {'query': ''}, 'id': 'call_sh86', 'type': 'tool_call'}], usage_metadata={'input_tokens': 1633, 'output_tokens': 235, 'total_tokens': 1868}),\n",
       " ToolMessage(content='Album, Artist, Customer, Employee, Genre, Invoice, InvoiceLine, MediaType, Playlist, PlaylistTrack, Track', name='sql_db_list_tables', id='baaee916-716f-4e00-a194-d3b874acdaf7', tool_call_id='call_81by'),\n",
       " ToolMessage(content=\"Error: table_names {''} not found in database\", name='sql_db_schema', id='df3cf917-afe6-432f-9824-f415b1082900', tool_call_id='call_6s78'),\n",
       " ToolMessage(content=\"I'm happy to help! However, I don't see any SQL query provided. Please paste the SQL query you'd like me to review, and I'll be happy to check for common mistakes and provide a rewritten query if necessary.\", name='sql_db_query_checker', id='6f55f4b4-018a-4f07-9742-7769dc113e96', tool_call_id='call_sabz'),\n",
       " ToolMessage(content='', name='sql_db_query', id='36743815-ee41-44f6-bd92-7a15be4f62c5', tool_call_id='call_sh86'),\n",
       " AIMessage(content='', additional_kwargs={'tool_calls': [{'id': 'call_6yhw', 'function': {'arguments': '{\"query\":\"SELECT Customer.CustomerName FROM Customer;\"}', 'name': 'sql_db_query'}, 'type': 'function'}]}, response_metadata={'token_usage': {'completion_tokens': 45, 'prompt_tokens': 1937, 'total_tokens': 1982, 'completion_time': 0.0375, 'prompt_time': 0.259260958, 'queue_time': 0.022862201000000026, 'total_time': 0.296760958}, 'model_name': 'llama3-8b-8192', 'system_fingerprint': 'fp_a97cfe35ae', 'finish_reason': 'tool_calls', 'logprobs': None}, id='run-2e85ae81-5852-4c58-b613-e278aa9bb935-0', tool_calls=[{'name': 'sql_db_query', 'args': {'query': 'SELECT Customer.CustomerName FROM Customer;'}, 'id': 'call_6yhw', 'type': 'tool_call'}], usage_metadata={'input_tokens': 1937, 'output_tokens': 45, 'total_tokens': 1982}),\n",
       " ToolMessage(content='Error: (sqlite3.OperationalError) no such column: Customer.CustomerName\\n[SQL: SELECT Customer.CustomerName FROM Customer;]\\n(Background on this error at: https://sqlalche.me/e/20/e3q8)', name='sql_db_query', id='2b19b077-95af-4cb1-85d6-11dcc0410bb8', tool_call_id='call_6yhw'),\n",
       " AIMessage(content='', additional_kwargs={'tool_calls': [{'id': 'call_ps3b', 'function': {'arguments': '{\"table_names\":\"Customer\"}', 'name': 'sql_db_schema'}, 'type': 'function'}]}, response_metadata={'token_usage': {'completion_tokens': 38, 'prompt_tokens': 2058, 'total_tokens': 2096, 'completion_time': 0.031666667, 'prompt_time': 0.257451132, 'queue_time': 0.026593330999999998, 'total_time': 0.289117799}, 'model_name': 'llama3-8b-8192', 'system_fingerprint': 'fp_179b0f92c9', 'finish_reason': 'tool_calls', 'logprobs': None}, id='run-e7c43e09-2e7d-4027-a730-c2224cc82098-0', tool_calls=[{'name': 'sql_db_schema', 'args': {'table_names': 'Customer'}, 'id': 'call_ps3b', 'type': 'tool_call'}], usage_metadata={'input_tokens': 2058, 'output_tokens': 38, 'total_tokens': 2096}),\n",
       " ToolMessage(content='\\nCREATE TABLE \"Customer\" (\\n\\t\"CustomerId\" INTEGER NOT NULL, \\n\\t\"FirstName\" NVARCHAR(40) NOT NULL, \\n\\t\"LastName\" NVARCHAR(20) NOT NULL, \\n\\t\"Company\" NVARCHAR(80), \\n\\t\"Address\" NVARCHAR(70), \\n\\t\"City\" NVARCHAR(40), \\n\\t\"State\" NVARCHAR(40), \\n\\t\"Country\" NVARCHAR(40), \\n\\t\"PostalCode\" NVARCHAR(10), \\n\\t\"Phone\" NVARCHAR(24), \\n\\t\"Fax\" NVARCHAR(24), \\n\\t\"Email\" NVARCHAR(60) NOT NULL, \\n\\t\"SupportRepId\" INTEGER, \\n\\tPRIMARY KEY (\"CustomerId\"), \\n\\tFOREIGN KEY(\"SupportRepId\") REFERENCES \"Employee\" (\"EmployeeId\")\\n)\\n\\n/*\\n3 rows from Customer table:\\nCustomerId\\tFirstName\\tLastName\\tCompany\\tAddress\\tCity\\tState\\tCountry\\tPostalCode\\tPhone\\tFax\\tEmail\\tSupportRepId\\n1\\tLuís\\tGonçalves\\tEmbraer - Empresa Brasileira de Aeronáutica S.A.\\tAv. Brigadeiro Faria Lima, 2170\\tSão José dos Campos\\tSP\\tBrazil\\t12227-000\\t+55 (12) 3923-5555\\t+55 (12) 3923-5566\\tluisg@embraer.com.br\\t3\\n2\\tLeonie\\tKöhler\\tNone\\tTheodor-Heuss-Straße 34\\tStuttgart\\tNone\\tGermany\\t70174\\t+49 0711 2842222\\tNone\\tleonekohler@surfeu.de\\t5\\n3\\tFrançois\\tTremblay\\tNone\\t1498 rue Bélanger\\tMontréal\\tQC\\tCanada\\tH2G 1A7\\t+1 (514) 721-4711\\tNone\\tftremblay@gmail.com\\t3\\n*/', name='sql_db_schema', id='538f5c21-d17c-4b0f-ae66-80063f5c3834', tool_call_id='call_ps3b'),\n",
       " AIMessage(content='', additional_kwargs={'tool_calls': [{'id': 'call_gsm9', 'function': {'arguments': '{\"query\":\"SELECT Customer.CustomerName FROM Customer;\"}', 'name': 'sql_db_query'}, 'type': 'function'}]}, response_metadata={'token_usage': {'completion_tokens': 42, 'prompt_tokens': 2520, 'total_tokens': 2562, 'completion_time': 0.035, 'prompt_time': 0.326347217, 'queue_time': 0.02229212199999997, 'total_time': 0.361347217}, 'model_name': 'llama3-8b-8192', 'system_fingerprint': 'fp_a97cfe35ae', 'finish_reason': 'tool_calls', 'logprobs': None}, id='run-156b03ea-6f7e-4de4-ad8f-cc2df396ad6f-0', tool_calls=[{'name': 'sql_db_query', 'args': {'query': 'SELECT Customer.CustomerName FROM Customer;'}, 'id': 'call_gsm9', 'type': 'tool_call'}], usage_metadata={'input_tokens': 2520, 'output_tokens': 42, 'total_tokens': 2562}),\n",
       " ToolMessage(content='Error: (sqlite3.OperationalError) no such column: Customer.CustomerName\\n[SQL: SELECT Customer.CustomerName FROM Customer;]\\n(Background on this error at: https://sqlalche.me/e/20/e3q8)', name='sql_db_query', id='18350aa0-2016-4b7f-808b-1c28adc98124', tool_call_id='call_gsm9'),\n",
       " AIMessage(content='', additional_kwargs={'tool_calls': [{'id': 'call_ksc1', 'function': {'arguments': '{\"query\":\"SELECT FirstName + \\' \\' + LastName AS CustomerName FROM Customer LIMIT 5;\"}', 'name': 'sql_db_query'}, 'type': 'function'}, {'id': 'call_2etv', 'function': {'arguments': '{\"query\":\"\"}', 'name': 'sql_db_query'}, 'type': 'function'}]}, response_metadata={'token_usage': {'completion_tokens': 78, 'prompt_tokens': 2639, 'total_tokens': 2717, 'completion_time': 0.065, 'prompt_time': 0.329044684, 'queue_time': 0.027857343000000034, 'total_time': 0.394044684}, 'model_name': 'llama3-8b-8192', 'system_fingerprint': 'fp_179b0f92c9', 'finish_reason': 'tool_calls', 'logprobs': None}, id='run-a691474f-6e21-49e0-bc72-40d7ec3b4672-0', tool_calls=[{'name': 'sql_db_query', 'args': {'query': \"SELECT FirstName + ' ' + LastName AS CustomerName FROM Customer LIMIT 5;\"}, 'id': 'call_ksc1', 'type': 'tool_call'}, {'name': 'sql_db_query', 'args': {'query': ''}, 'id': 'call_2etv', 'type': 'tool_call'}], usage_metadata={'input_tokens': 2639, 'output_tokens': 78, 'total_tokens': 2717}),\n",
       " ToolMessage(content='[(0,), (0,), (0,), (0,), (0,)]', name='sql_db_query', id='c289935f-b968-4748-b8f0-917e69501eaa', tool_call_id='call_ksc1'),\n",
       " ToolMessage(content='', name='sql_db_query', id='88da743d-b3ab-42e0-8e8d-faee6b3e94d5', tool_call_id='call_2etv'),\n",
       " AIMessage(content='I think I can respond directly without using a tool.\\n\\nIt seems like the query is not returning any results, and the table \"Customer\" in the database does not have a column named \"CustomerName\". The query is trying to select a column that does not exist.\\n\\nI would suggest re-writing the query to select the relevant columns, such as \"FirstName\" and \"LastName\", and then combine them to form a full name. The limit 5 clause can be used to limit the number of results to 5. Here\\'s an example of how the query could be rewritten:\\n\\n`SELECT FirstName + \\' \\' + LastName AS CustomerName FROM Customer LIMIT 5;`\\n\\nThis query would return the full names of the first 5 customers in the \"Customer\" table.', additional_kwargs={}, response_metadata={'token_usage': {'completion_tokens': 155, 'prompt_tokens': 2788, 'total_tokens': 2943, 'completion_time': 0.129166667, 'prompt_time': 0.348147142, 'queue_time': 0.026152636000000007, 'total_time': 0.477313809}, 'model_name': 'llama3-8b-8192', 'system_fingerprint': 'fp_179b0f92c9', 'finish_reason': 'stop', 'logprobs': None}, id='run-4b5f57e5-02d7-4ad1-b9a7-38a848d59eb7-0', usage_metadata={'input_tokens': 2788, 'output_tokens': 155, 'total_tokens': 2943})]"
      ]
     },
     "execution_count": 15,
     "metadata": {},
     "output_type": "execute_result"
    }
   ],
   "source": [
    "# example_query = 'Retorne os generos que começam com letra r'\n",
    "example_query = \"Who are Brazil's customers?\"\n",
    "\n",
    "\n",
    "events = agent_executor.invoke(\n",
    "    {\"messages\": [(\"user\", example_query)]},\n",
    "    # stream_mode=\"values\",\n",
    ")\n",
    "\n",
    "# for event in events:\n",
    "  # event[\"messages\"][-1].pretty_print()\n",
    "\n",
    "events['messages']"
   ]
  }
 ],
 "metadata": {
  "kernelspec": {
   "display_name": ".venv",
   "language": "python",
   "name": "python3"
  },
  "language_info": {
   "codemirror_mode": {
    "name": "ipython",
    "version": 3
   },
   "file_extension": ".py",
   "mimetype": "text/x-python",
   "name": "python",
   "nbconvert_exporter": "python",
   "pygments_lexer": "ipython3",
   "version": "3.10.12"
  }
 },
 "nbformat": 4,
 "nbformat_minor": 5
}
